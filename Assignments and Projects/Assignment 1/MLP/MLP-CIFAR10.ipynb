{
 "cells": [
  {
   "cell_type": "code",
   "execution_count": 268,
   "metadata": {
    "collapsed": true
   },
   "outputs": [],
   "source": [
    "from __future__ import print_function"
   ]
  },
  {
   "cell_type": "code",
   "execution_count": 269,
   "metadata": {},
   "outputs": [],
   "source": [
    "import keras\n",
    "from keras.datasets import cifar10\n",
    "from keras.models import Sequential\n",
    "from keras.layers import Dense, Dropout\n",
    "from keras.optimizers import RMSprop"
   ]
  },
  {
   "cell_type": "code",
   "execution_count": 270,
   "metadata": {
    "collapsed": true
   },
   "outputs": [],
   "source": [
    "batch_size = 512\n",
    "num_classes = 10\n",
    "epochs = 25"
   ]
  },
  {
   "cell_type": "code",
   "execution_count": 271,
   "metadata": {},
   "outputs": [],
   "source": [
    "(x_train, y_train), (x_test, y_test)=cifar10.load_data()"
   ]
  },
  {
   "cell_type": "code",
   "execution_count": 272,
   "metadata": {},
   "outputs": [
    {
     "name": "stdout",
     "output_type": "stream",
     "text": [
      "(10000, 32, 32, 3)\n"
     ]
    }
   ],
   "source": [
    "print(x_test.shape)"
   ]
  },
  {
   "cell_type": "code",
   "execution_count": 273,
   "metadata": {},
   "outputs": [
    {
     "name": "stdout",
     "output_type": "stream",
     "text": [
      "50000 train samples\n",
      "10000 test samples\n"
     ]
    }
   ],
   "source": [
    "x_train = x_train.reshape(50000,3072)\n",
    "x_test = x_test.reshape(10000,3072)\n",
    "x_train = x_train.astype('float32')\n",
    "x_test = x_test.astype('float32')\n",
    "x_train /= 255\n",
    "x_test /= 255\n",
    "print(x_train.shape[0], 'train samples')\n",
    "print(x_test.shape[0], 'test samples')"
   ]
  },
  {
   "cell_type": "code",
   "execution_count": 274,
   "metadata": {},
   "outputs": [],
   "source": [
    "y_train = keras.utils.to_categorical(y_train, num_classes)\n",
    "y_test = keras.utils.to_categorical(y_test, num_classes)"
   ]
  },
  {
   "cell_type": "code",
   "execution_count": 275,
   "metadata": {},
   "outputs": [],
   "source": [
    "model = Sequential()\n",
    "model.add(Dense(1024, activation='relu', input_shape=(3072,)))\n",
    "model.add(Dropout(0.25))\n",
    "model.add(Dense(512, activation='relu'))\n",
    "model.add(Dropout(0.25))\n",
    "model.add(Dense(128, activation='relu'))\n",
    "model.add(Dropout(0.25))\n",
    "model.add(Dense(10, activation='softmax'))"
   ]
  },
  {
   "cell_type": "code",
   "execution_count": 276,
   "metadata": {},
   "outputs": [
    {
     "name": "stdout",
     "output_type": "stream",
     "text": [
      "_________________________________________________________________\n",
      "Layer (type)                 Output Shape              Param #   \n",
      "=================================================================\n",
      "dense_124 (Dense)            (None, 1024)              3146752   \n",
      "_________________________________________________________________\n",
      "dropout_85 (Dropout)         (None, 1024)              0         \n",
      "_________________________________________________________________\n",
      "dense_125 (Dense)            (None, 512)               524800    \n",
      "_________________________________________________________________\n",
      "dropout_86 (Dropout)         (None, 512)               0         \n",
      "_________________________________________________________________\n",
      "dense_126 (Dense)            (None, 128)               65664     \n",
      "_________________________________________________________________\n",
      "dropout_87 (Dropout)         (None, 128)               0         \n",
      "_________________________________________________________________\n",
      "dense_127 (Dense)            (None, 10)                1290      \n",
      "=================================================================\n",
      "Total params: 3,738,506\n",
      "Trainable params: 3,738,506\n",
      "Non-trainable params: 0\n",
      "_________________________________________________________________\n"
     ]
    }
   ],
   "source": [
    "model.summary()"
   ]
  },
  {
   "cell_type": "code",
   "execution_count": 277,
   "metadata": {
    "collapsed": true
   },
   "outputs": [],
   "source": [
    "model.compile(loss='categorical_crossentropy',\n",
    "              optimizer=RMSprop(),\n",
    "              metrics=['accuracy'])"
   ]
  },
  {
   "cell_type": "code",
   "execution_count": 278,
   "metadata": {},
   "outputs": [
    {
     "name": "stdout",
     "output_type": "stream",
     "text": [
      "Epoch 1/25\n",
      "50000/50000 [==============================] - 23s - loss: 2.6338 - acc: 0.1662    \n",
      "Epoch 2/25\n",
      "50000/50000 [==============================] - 23s - loss: 2.0585 - acc: 0.2479    \n",
      "Epoch 3/25\n",
      "50000/50000 [==============================] - 24s - loss: 1.9636 - acc: 0.2863    \n",
      "Epoch 4/25\n",
      "50000/50000 [==============================] - 26s - loss: 1.9087 - acc: 0.3146    \n",
      "Epoch 5/25\n",
      "50000/50000 [==============================] - 25s - loss: 1.8682 - acc: 0.3320    \n",
      "Epoch 6/25\n",
      "50000/50000 [==============================] - 25s - loss: 1.8233 - acc: 0.3484    \n",
      "Epoch 7/25\n",
      "50000/50000 [==============================] - 27s - loss: 1.7882 - acc: 0.3628    \n",
      "Epoch 8/25\n",
      "50000/50000 [==============================] - 24s - loss: 1.7641 - acc: 0.3691    \n",
      "Epoch 9/25\n",
      "50000/50000 [==============================] - 24s - loss: 1.7365 - acc: 0.3835    \n",
      "Epoch 10/25\n",
      "50000/50000 [==============================] - 26s - loss: 1.7140 - acc: 0.3887    \n",
      "Epoch 11/25\n",
      "50000/50000 [==============================] - 25s - loss: 1.6961 - acc: 0.3968    \n",
      "Epoch 12/25\n",
      "50000/50000 [==============================] - 25s - loss: 1.6768 - acc: 0.4062    \n",
      "Epoch 13/25\n",
      "50000/50000 [==============================] - 24s - loss: 1.6555 - acc: 0.4110    \n",
      "Epoch 14/25\n",
      "50000/50000 [==============================] - 24s - loss: 1.6419 - acc: 0.4157    \n",
      "Epoch 15/25\n",
      "50000/50000 [==============================] - 22s - loss: 1.6204 - acc: 0.4242    \n",
      "Epoch 16/25\n",
      "50000/50000 [==============================] - 22s - loss: 1.6140 - acc: 0.4264    \n",
      "Epoch 17/25\n",
      "50000/50000 [==============================] - 22s - loss: 1.5913 - acc: 0.4328    \n",
      "Epoch 18/25\n",
      "50000/50000 [==============================] - 22s - loss: 1.5820 - acc: 0.4357    \n",
      "Epoch 19/25\n",
      "50000/50000 [==============================] - 22s - loss: 1.5801 - acc: 0.4408    \n",
      "Epoch 20/25\n",
      "50000/50000 [==============================] - 23s - loss: 1.5614 - acc: 0.4428    \n",
      "Epoch 21/25\n",
      "50000/50000 [==============================] - 23s - loss: 1.5419 - acc: 0.4479    \n",
      "Epoch 22/25\n",
      "50000/50000 [==============================] - 23s - loss: 1.5356 - acc: 0.4529    \n",
      "Epoch 23/25\n",
      "50000/50000 [==============================] - 23s - loss: 1.5211 - acc: 0.4585    \n",
      "Epoch 24/25\n",
      "50000/50000 [==============================] - 23s - loss: 1.5146 - acc: 0.4607    \n",
      "Epoch 25/25\n",
      "50000/50000 [==============================] - 23s - loss: 1.5056 - acc: 0.4654    \n"
     ]
    }
   ],
   "source": [
    "history = model.fit(x_train, y_train,\n",
    "                    batch_size=batch_size,\n",
    "                    epochs=epochs,\n",
    "                    verbose=1)"
   ]
  },
  {
   "cell_type": "code",
   "execution_count": 279,
   "metadata": {},
   "outputs": [
    {
     "name": "stdout",
     "output_type": "stream",
     "text": [
      "[1.4976063442230225, 0.47520000000000001]\n"
     ]
    }
   ],
   "source": [
    "score = model.evaluate(x_test, y_test, verbose=0)\n",
    "print(score)"
   ]
  },
  {
   "cell_type": "code",
   "execution_count": null,
   "metadata": {},
   "outputs": [],
   "source": []
  },
  {
   "cell_type": "code",
   "execution_count": null,
   "metadata": {
    "collapsed": true
   },
   "outputs": [],
   "source": []
  },
  {
   "cell_type": "code",
   "execution_count": null,
   "metadata": {
    "collapsed": true
   },
   "outputs": [],
   "source": []
  },
  {
   "cell_type": "code",
   "execution_count": null,
   "metadata": {
    "collapsed": true
   },
   "outputs": [],
   "source": []
  },
  {
   "cell_type": "code",
   "execution_count": null,
   "metadata": {
    "collapsed": true
   },
   "outputs": [],
   "source": []
  },
  {
   "cell_type": "code",
   "execution_count": null,
   "metadata": {
    "collapsed": true
   },
   "outputs": [],
   "source": []
  },
  {
   "cell_type": "code",
   "execution_count": null,
   "metadata": {
    "collapsed": true
   },
   "outputs": [],
   "source": []
  },
  {
   "cell_type": "code",
   "execution_count": null,
   "metadata": {
    "collapsed": true
   },
   "outputs": [],
   "source": []
  },
  {
   "cell_type": "code",
   "execution_count": null,
   "metadata": {
    "collapsed": true
   },
   "outputs": [],
   "source": []
  },
  {
   "cell_type": "code",
   "execution_count": null,
   "metadata": {
    "collapsed": true
   },
   "outputs": [],
   "source": []
  },
  {
   "cell_type": "code",
   "execution_count": null,
   "metadata": {
    "collapsed": true
   },
   "outputs": [],
   "source": []
  },
  {
   "cell_type": "code",
   "execution_count": null,
   "metadata": {
    "collapsed": true
   },
   "outputs": [],
   "source": []
  },
  {
   "cell_type": "code",
   "execution_count": null,
   "metadata": {
    "collapsed": true
   },
   "outputs": [],
   "source": []
  },
  {
   "cell_type": "code",
   "execution_count": null,
   "metadata": {
    "collapsed": true
   },
   "outputs": [],
   "source": []
  },
  {
   "cell_type": "code",
   "execution_count": null,
   "metadata": {
    "collapsed": true
   },
   "outputs": [],
   "source": []
  }
 ],
 "metadata": {
  "kernelspec": {
   "display_name": "Python 3",
   "language": "python",
   "name": "python3"
  },
  "language_info": {
   "codemirror_mode": {
    "name": "ipython",
    "version": 3
   },
   "file_extension": ".py",
   "mimetype": "text/x-python",
   "name": "python",
   "nbconvert_exporter": "python",
   "pygments_lexer": "ipython3",
   "version": "3.6.2"
  }
 },
 "nbformat": 4,
 "nbformat_minor": 2
}
